{
 "cells": [
  {
   "cell_type": "code",
   "execution_count": 1,
   "id": "cb9813a8",
   "metadata": {},
   "outputs": [],
   "source": [
    "import matplotlib.pyplot as plt\n",
    "import pandas as pd\n",
    "import numpy as np\n",
    "import math\n",
    "import seaborn as sns"
   ]
  },
  {
   "cell_type": "code",
   "execution_count": 2,
   "id": "699fd46f",
   "metadata": {
    "scrolled": true
   },
   "outputs": [
    {
     "name": "stdout",
     "output_type": "stream",
     "text": [
      "<class 'pandas.core.frame.DataFrame'>\n",
      "RangeIndex: 161 entries, 0 to 160\n",
      "Data columns (total 4 columns):\n",
      " #   Column       Non-Null Count  Dtype  \n",
      "---  ------       --------------  -----  \n",
      " 0   Voltage      161 non-null    float64\n",
      " 1   Current      161 non-null    float64\n",
      " 2   Temperature  161 non-null    float64\n",
      " 3   Capacity     161 non-null    float64\n",
      "dtypes: float64(4)\n",
      "memory usage: 5.2 KB\n"
     ]
    }
   ],
   "source": [
    "soh = pd.read_csv(r\"C:\\Users\\DELL\\Desktop\\Mini project\\charge sheet.csv\")\n",
    "soh.info()"
   ]
  },
  {
   "cell_type": "code",
   "execution_count": 3,
   "id": "b3bd64c6",
   "metadata": {},
   "outputs": [],
   "source": [
    "a = []\n",
    "a = round((soh['Capacity']/3)*100)"
   ]
  },
  {
   "cell_type": "code",
   "execution_count": 4,
   "id": "53d3e22b",
   "metadata": {},
   "outputs": [],
   "source": [
    "soh['SOH'] = a"
   ]
  },
  {
   "cell_type": "code",
   "execution_count": 5,
   "id": "6e574950",
   "metadata": {
    "scrolled": true
   },
   "outputs": [
    {
     "data": {
      "text/html": [
       "<div>\n",
       "<style scoped>\n",
       "    .dataframe tbody tr th:only-of-type {\n",
       "        vertical-align: middle;\n",
       "    }\n",
       "\n",
       "    .dataframe tbody tr th {\n",
       "        vertical-align: top;\n",
       "    }\n",
       "\n",
       "    .dataframe thead th {\n",
       "        text-align: right;\n",
       "    }\n",
       "</style>\n",
       "<table border=\"1\" class=\"dataframe\">\n",
       "  <thead>\n",
       "    <tr style=\"text-align: right;\">\n",
       "      <th></th>\n",
       "      <th>Voltage</th>\n",
       "      <th>Current</th>\n",
       "      <th>Temperature</th>\n",
       "      <th>Capacity</th>\n",
       "      <th>SOH</th>\n",
       "    </tr>\n",
       "  </thead>\n",
       "  <tbody>\n",
       "    <tr>\n",
       "      <th>0</th>\n",
       "      <td>4.19979</td>\n",
       "      <td>0.08939</td>\n",
       "      <td>23.87099</td>\n",
       "      <td>2.75334</td>\n",
       "      <td>92.0</td>\n",
       "    </tr>\n",
       "    <tr>\n",
       "      <th>1</th>\n",
       "      <td>4.19979</td>\n",
       "      <td>0.08429</td>\n",
       "      <td>23.97615</td>\n",
       "      <td>2.75479</td>\n",
       "      <td>92.0</td>\n",
       "    </tr>\n",
       "    <tr>\n",
       "      <th>2</th>\n",
       "      <td>4.19979</td>\n",
       "      <td>0.07662</td>\n",
       "      <td>23.87099</td>\n",
       "      <td>2.75613</td>\n",
       "      <td>92.0</td>\n",
       "    </tr>\n",
       "    <tr>\n",
       "      <th>3</th>\n",
       "      <td>4.19979</td>\n",
       "      <td>0.07152</td>\n",
       "      <td>23.97615</td>\n",
       "      <td>2.75736</td>\n",
       "      <td>92.0</td>\n",
       "    </tr>\n",
       "    <tr>\n",
       "      <th>4</th>\n",
       "      <td>4.19979</td>\n",
       "      <td>0.06641</td>\n",
       "      <td>23.97615</td>\n",
       "      <td>2.75851</td>\n",
       "      <td>92.0</td>\n",
       "    </tr>\n",
       "  </tbody>\n",
       "</table>\n",
       "</div>"
      ],
      "text/plain": [
       "   Voltage  Current  Temperature  Capacity   SOH\n",
       "0  4.19979  0.08939     23.87099   2.75334  92.0\n",
       "1  4.19979  0.08429     23.97615   2.75479  92.0\n",
       "2  4.19979  0.07662     23.87099   2.75613  92.0\n",
       "3  4.19979  0.07152     23.97615   2.75736  92.0\n",
       "4  4.19979  0.06641     23.97615   2.75851  92.0"
      ]
     },
     "execution_count": 5,
     "metadata": {},
     "output_type": "execute_result"
    }
   ],
   "source": [
    "soh.head()"
   ]
  },
  {
   "cell_type": "code",
   "execution_count": 6,
   "id": "87555d3d",
   "metadata": {},
   "outputs": [
    {
     "data": {
      "text/html": [
       "<div>\n",
       "<style scoped>\n",
       "    .dataframe tbody tr th:only-of-type {\n",
       "        vertical-align: middle;\n",
       "    }\n",
       "\n",
       "    .dataframe tbody tr th {\n",
       "        vertical-align: top;\n",
       "    }\n",
       "\n",
       "    .dataframe thead th {\n",
       "        text-align: right;\n",
       "    }\n",
       "</style>\n",
       "<table border=\"1\" class=\"dataframe\">\n",
       "  <thead>\n",
       "    <tr style=\"text-align: right;\">\n",
       "      <th></th>\n",
       "      <th>Voltage</th>\n",
       "      <th>Current</th>\n",
       "      <th>Temperature</th>\n",
       "      <th>Capacity</th>\n",
       "      <th>SOH</th>\n",
       "    </tr>\n",
       "  </thead>\n",
       "  <tbody>\n",
       "    <tr>\n",
       "      <th>156</th>\n",
       "      <td>4.19979</td>\n",
       "      <td>0.06641</td>\n",
       "      <td>23.45035</td>\n",
       "      <td>2.58431</td>\n",
       "      <td>86.0</td>\n",
       "    </tr>\n",
       "    <tr>\n",
       "      <th>157</th>\n",
       "      <td>4.19979</td>\n",
       "      <td>0.06130</td>\n",
       "      <td>23.76583</td>\n",
       "      <td>2.58536</td>\n",
       "      <td>86.0</td>\n",
       "    </tr>\n",
       "    <tr>\n",
       "      <th>158</th>\n",
       "      <td>4.19979</td>\n",
       "      <td>0.05619</td>\n",
       "      <td>24.08130</td>\n",
       "      <td>2.58632</td>\n",
       "      <td>86.0</td>\n",
       "    </tr>\n",
       "    <tr>\n",
       "      <th>159</th>\n",
       "      <td>4.19979</td>\n",
       "      <td>0.05364</td>\n",
       "      <td>24.08130</td>\n",
       "      <td>2.58723</td>\n",
       "      <td>86.0</td>\n",
       "    </tr>\n",
       "    <tr>\n",
       "      <th>160</th>\n",
       "      <td>4.19979</td>\n",
       "      <td>0.04853</td>\n",
       "      <td>23.97615</td>\n",
       "      <td>2.58787</td>\n",
       "      <td>86.0</td>\n",
       "    </tr>\n",
       "  </tbody>\n",
       "</table>\n",
       "</div>"
      ],
      "text/plain": [
       "     Voltage  Current  Temperature  Capacity   SOH\n",
       "156  4.19979  0.06641     23.45035   2.58431  86.0\n",
       "157  4.19979  0.06130     23.76583   2.58536  86.0\n",
       "158  4.19979  0.05619     24.08130   2.58632  86.0\n",
       "159  4.19979  0.05364     24.08130   2.58723  86.0\n",
       "160  4.19979  0.04853     23.97615   2.58787  86.0"
      ]
     },
     "execution_count": 6,
     "metadata": {},
     "output_type": "execute_result"
    }
   ],
   "source": [
    "soh.tail()"
   ]
  },
  {
   "cell_type": "code",
   "execution_count": 7,
   "id": "43cf96dd",
   "metadata": {},
   "outputs": [
    {
     "data": {
      "image/png": "[encoded data removed]",
      "text/plain": [
       "<Figure size 1000x600 with 2 Axes>"
      ]
     },
     "metadata": {},
     "output_type": "display_data"
    }
   ],
   "source": [
    "corr_matrix = soh.corr()\n",
    "\n",
    "fig,ax = plt.subplots(figsize = (10,6))\n",
    "sns.heatmap(corr_matrix, cmap = 'coolwarm',ax = ax)\n",
    "ax.set_title(\"Correlation Matix\")\n",
    "\n",
    "plt.show()"
   ]
  },
  {
   "cell_type": "code",
   "execution_count": 8,
   "id": "74cf1869",
   "metadata": {},
   "outputs": [],
   "source": [
    "x = soh.iloc[:,:-1]\n",
    "y = soh.iloc[:,-1]"
   ]
  },
  {
   "cell_type": "code",
   "execution_count": 9,
   "id": "23f3687a",
   "metadata": {},
   "outputs": [],
   "source": [
    "from sklearn.model_selection import train_test_split"
   ]
  },
  {
   "cell_type": "code",
   "execution_count": 10,
   "id": "4c923133",
   "metadata": {},
   "outputs": [],
   "source": [
    "x_train,x_test,y_train,y_test = train_test_split(x,y,random_state=42,test_size=0.2)"
   ]
  },
  {
   "cell_type": "code",
   "execution_count": 11,
   "id": "15a4216d",
   "metadata": {},
   "outputs": [],
   "source": [
    "from sklearn.svm import SVR\n",
    "from sklearn.metrics import r2_score,mean_squared_error"
   ]
  },
  {
   "cell_type": "code",
   "execution_count": 12,
   "id": "ee0d5a76",
   "metadata": {},
   "outputs": [],
   "source": [
    "model = SVR(kernel='poly',C=30,gamma=0.1)\n",
    "model.fit(x_train,y_train)\n",
    "predict = model.predict(x_test)"
   ]
  },
  {
   "cell_type": "code",
   "execution_count": 13,
   "id": "0a333ea1",
   "metadata": {},
   "outputs": [
    {
     "data": {
      "text/plain": [
       "0.9808665821881445"
      ]
     },
     "execution_count": 13,
     "metadata": {},
     "output_type": "execute_result"
    }
   ],
   "source": [
    "model.score(x_train,y_train)"
   ]
  },
  {
   "cell_type": "code",
   "execution_count": 14,
   "id": "427d9a51",
   "metadata": {},
   "outputs": [
    {
     "data": {
      "text/plain": [
       "0.9790171795069291"
      ]
     },
     "execution_count": 14,
     "metadata": {},
     "output_type": "execute_result"
    }
   ],
   "source": [
    "r2_score(y_test,predict)"
   ]
  },
  {
   "cell_type": "code",
   "execution_count": 15,
   "id": "1f27235f",
   "metadata": {},
   "outputs": [
    {
     "data": {
      "text/plain": [
       "0.18662956776481618"
      ]
     },
     "execution_count": 15,
     "metadata": {},
     "output_type": "execute_result"
    }
   ],
   "source": [
    "mean_squared_error(y_test,predict)"
   ]
  },
  {
   "cell_type": "code",
   "execution_count": 16,
   "id": "7665f40a",
   "metadata": {},
   "outputs": [
    {
     "data": {
      "text/plain": [
       "0.4320064441241776"
      ]
     },
     "execution_count": 16,
     "metadata": {},
     "output_type": "execute_result"
    }
   ],
   "source": [
    "math.sqrt(mean_squared_error(y_test,predict))"
   ]
  },
  {
   "cell_type": "code",
   "execution_count": 17,
   "id": "ff0ca6da",
   "metadata": {},
   "outputs": [
    {
     "data": {
      "image/png": "[encoded data removed]",
      "text/plain": [
       "<Figure size 640x480 with 1 Axes>"
      ]
     },
     "metadata": {},
     "output_type": "display_data"
    }
   ],
   "source": [
    "plt.bar(['Training','Testing'],[model.score(x_train,y_train),r2_score(y_test,predict)],color = ['pink','brown'])\n",
    "plt.title('Training vs Testing accuracy')\n",
    "plt.ylabel('Accuracy')\n",
    "plt.show()"
   ]
  },
  {
   "cell_type": "code",
   "execution_count": null,
   "id": "74bec107",
   "metadata": {},
   "outputs": [],
   "source": []
  },
  {
   "cell_type": "code",
   "execution_count": null,
   "id": "bfe35d4b",
   "metadata": {},
   "outputs": [],
   "source": []
  }
 ],
 "metadata": {
  "kernelspec": {
   "display_name": "Python 3 (ipykernel)",
   "language": "python",
   "name": "python3"
  },
  "language_info": {
   "codemirror_mode": {
    "name": "ipython",
    "version": 3
   },
   "file_extension": ".py",
   "mimetype": "text/x-python",
   "name": "python",
   "nbconvert_exporter": "python",
   "pygments_lexer": "ipython3",
   "version": "3.10.11"
  }
 },
 "nbformat": 4,
 "nbformat_minor": 5
}
