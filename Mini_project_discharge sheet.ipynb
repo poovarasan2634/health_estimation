{
 "cells": [
  {
   "cell_type": "code",
   "execution_count": 1,
   "id": "cb9813a8",
   "metadata": {},
   "outputs": [],
   "source": [
    "import matplotlib.pyplot as plt\n",
    "import pandas as pd\n",
    "import numpy as np\n",
    "import math\n",
    "import seaborn as sns"
   ]
  },
  {
   "cell_type": "code",
   "execution_count": 2,
   "id": "699fd46f",
   "metadata": {
    "scrolled": true
   },
   "outputs": [
    {
     "name": "stdout",
     "output_type": "stream",
     "text": [
      "<class 'pandas.core.frame.DataFrame'>\n",
      "RangeIndex: 89 entries, 0 to 88\n",
      "Data columns (total 4 columns):\n",
      " #   Column       Non-Null Count  Dtype  \n",
      "---  ------       --------------  -----  \n",
      " 0   Voltage      89 non-null     float64\n",
      " 1   Current      89 non-null     float64\n",
      " 2   Temperature  89 non-null     float64\n",
      " 3   Capacity     89 non-null     float64\n",
      "dtypes: float64(4)\n",
      "memory usage: 2.9 KB\n"
     ]
    }
   ],
   "source": [
    "soh = pd.read_csv(r\"C:\\Users\\DELL\\Desktop\\Mini project\\Discharge-25.csv\")\n",
    "soh.info()"
   ]
  },
  {
   "cell_type": "code",
   "execution_count": 3,
   "id": "b3bd64c6",
   "metadata": {},
   "outputs": [],
   "source": [
    "a = []\n",
    "a = round((soh['Capacity']/3)*100)"
   ]
  },
  {
   "cell_type": "code",
   "execution_count": 4,
   "id": "53d3e22b",
   "metadata": {},
   "outputs": [],
   "source": [
    "a = abs(a)\n",
    "soh['SOH'] = a"
   ]
  },
  {
   "cell_type": "code",
   "execution_count": 5,
   "id": "6e574950",
   "metadata": {},
   "outputs": [
    {
     "data": {
      "text/html": [
       "<div>\n",
       "<style scoped>\n",
       "    .dataframe tbody tr th:only-of-type {\n",
       "        vertical-align: middle;\n",
       "    }\n",
       "\n",
       "    .dataframe tbody tr th {\n",
       "        vertical-align: top;\n",
       "    }\n",
       "\n",
       "    .dataframe thead th {\n",
       "        text-align: right;\n",
       "    }\n",
       "</style>\n",
       "<table border=\"1\" class=\"dataframe\">\n",
       "  <thead>\n",
       "    <tr style=\"text-align: right;\">\n",
       "      <th></th>\n",
       "      <th>Voltage</th>\n",
       "      <th>Current</th>\n",
       "      <th>Temperature</th>\n",
       "      <th>Capacity</th>\n",
       "      <th>SOH</th>\n",
       "    </tr>\n",
       "  </thead>\n",
       "  <tbody>\n",
       "    <tr>\n",
       "      <th>0</th>\n",
       "      <td>3.14413</td>\n",
       "      <td>-1.49925</td>\n",
       "      <td>24.29162</td>\n",
       "      <td>-2.38183</td>\n",
       "      <td>79.0</td>\n",
       "    </tr>\n",
       "    <tr>\n",
       "      <th>1</th>\n",
       "      <td>3.11092</td>\n",
       "      <td>-1.49670</td>\n",
       "      <td>24.60710</td>\n",
       "      <td>-2.40681</td>\n",
       "      <td>80.0</td>\n",
       "    </tr>\n",
       "    <tr>\n",
       "      <th>2</th>\n",
       "      <td>3.07738</td>\n",
       "      <td>-1.49670</td>\n",
       "      <td>24.71226</td>\n",
       "      <td>-2.43178</td>\n",
       "      <td>81.0</td>\n",
       "    </tr>\n",
       "    <tr>\n",
       "      <th>3</th>\n",
       "      <td>3.04198</td>\n",
       "      <td>-1.49670</td>\n",
       "      <td>24.71226</td>\n",
       "      <td>-2.45674</td>\n",
       "      <td>82.0</td>\n",
       "    </tr>\n",
       "    <tr>\n",
       "      <th>4</th>\n",
       "      <td>3.00169</td>\n",
       "      <td>-1.49925</td>\n",
       "      <td>24.29162</td>\n",
       "      <td>-2.48171</td>\n",
       "      <td>83.0</td>\n",
       "    </tr>\n",
       "  </tbody>\n",
       "</table>\n",
       "</div>"
      ],
      "text/plain": [
       "   Voltage  Current  Temperature  Capacity   SOH\n",
       "0  3.14413 -1.49925     24.29162  -2.38183  79.0\n",
       "1  3.11092 -1.49670     24.60710  -2.40681  80.0\n",
       "2  3.07738 -1.49670     24.71226  -2.43178  81.0\n",
       "3  3.04198 -1.49670     24.71226  -2.45674  82.0\n",
       "4  3.00169 -1.49925     24.29162  -2.48171  83.0"
      ]
     },
     "execution_count": 5,
     "metadata": {},
     "output_type": "execute_result"
    }
   ],
   "source": [
    "soh.head()"
   ]
  },
  {
   "cell_type": "code",
   "execution_count": 6,
   "id": "87555d3d",
   "metadata": {
    "scrolled": false
   },
   "outputs": [
    {
     "data": {
      "text/html": [
       "<div>\n",
       "<style scoped>\n",
       "    .dataframe tbody tr th:only-of-type {\n",
       "        vertical-align: middle;\n",
       "    }\n",
       "\n",
       "    .dataframe tbody tr th {\n",
       "        vertical-align: top;\n",
       "    }\n",
       "\n",
       "    .dataframe thead th {\n",
       "        text-align: right;\n",
       "    }\n",
       "</style>\n",
       "<table border=\"1\" class=\"dataframe\">\n",
       "  <thead>\n",
       "    <tr style=\"text-align: right;\">\n",
       "      <th></th>\n",
       "      <th>Voltage</th>\n",
       "      <th>Current</th>\n",
       "      <th>Temperature</th>\n",
       "      <th>Capacity</th>\n",
       "      <th>SOH</th>\n",
       "    </tr>\n",
       "  </thead>\n",
       "  <tbody>\n",
       "    <tr>\n",
       "      <th>84</th>\n",
       "      <td>2.79976</td>\n",
       "      <td>-9.94307</td>\n",
       "      <td>25.02773</td>\n",
       "      <td>-2.55711</td>\n",
       "      <td>85.0</td>\n",
       "    </tr>\n",
       "    <tr>\n",
       "      <th>85</th>\n",
       "      <td>2.79993</td>\n",
       "      <td>-9.88433</td>\n",
       "      <td>25.02773</td>\n",
       "      <td>-2.55739</td>\n",
       "      <td>85.0</td>\n",
       "    </tr>\n",
       "    <tr>\n",
       "      <th>86</th>\n",
       "      <td>2.79976</td>\n",
       "      <td>-9.83580</td>\n",
       "      <td>25.02773</td>\n",
       "      <td>-2.55767</td>\n",
       "      <td>85.0</td>\n",
       "    </tr>\n",
       "    <tr>\n",
       "      <th>87</th>\n",
       "      <td>2.79976</td>\n",
       "      <td>-9.78216</td>\n",
       "      <td>25.02773</td>\n",
       "      <td>-2.55793</td>\n",
       "      <td>85.0</td>\n",
       "    </tr>\n",
       "    <tr>\n",
       "      <th>88</th>\n",
       "      <td>2.79976</td>\n",
       "      <td>-9.76173</td>\n",
       "      <td>25.02773</td>\n",
       "      <td>-2.55821</td>\n",
       "      <td>85.0</td>\n",
       "    </tr>\n",
       "  </tbody>\n",
       "</table>\n",
       "</div>"
      ],
      "text/plain": [
       "    Voltage  Current  Temperature  Capacity   SOH\n",
       "84  2.79976 -9.94307     25.02773  -2.55711  85.0\n",
       "85  2.79993 -9.88433     25.02773  -2.55739  85.0\n",
       "86  2.79976 -9.83580     25.02773  -2.55767  85.0\n",
       "87  2.79976 -9.78216     25.02773  -2.55793  85.0\n",
       "88  2.79976 -9.76173     25.02773  -2.55821  85.0"
      ]
     },
     "execution_count": 6,
     "metadata": {},
     "output_type": "execute_result"
    }
   ],
   "source": [
    "soh.tail()"
   ]
  },
  {
   "cell_type": "code",
   "execution_count": 7,
   "id": "bcc79b28",
   "metadata": {},
   "outputs": [
    {
     "data": {
      "image/png": "[encoded data removed]",
      "text/plain": [
       "<Figure size 1000x600 with 2 Axes>"
      ]
     },
     "metadata": {},
     "output_type": "display_data"
    }
   ],
   "source": [
    "corr_matrix = soh.corr()\n",
    "\n",
    "fig,ax = plt.subplots(figsize = (10,6))\n",
    "sns.heatmap(corr_matrix, cmap = 'coolwarm',ax = ax)\n",
    "ax.set_title(\"Correlation Matix\")\n",
    "\n",
    "plt.show()"
   ]
  },
  {
   "cell_type": "code",
   "execution_count": 8,
   "id": "74cf1869",
   "metadata": {},
   "outputs": [],
   "source": [
    "x = soh.iloc[:,:-1]\n",
    "y = soh.iloc[:,-1]"
   ]
  },
  {
   "cell_type": "code",
   "execution_count": 9,
   "id": "23f3687a",
   "metadata": {},
   "outputs": [],
   "source": [
    "from sklearn.model_selection import train_test_split"
   ]
  },
  {
   "cell_type": "code",
   "execution_count": 10,
   "id": "4c923133",
   "metadata": {},
   "outputs": [],
   "source": [
    "x_train,x_test,y_train,y_test = train_test_split(x,y,random_state=42,test_size=0.2)"
   ]
  },
  {
   "cell_type": "code",
   "execution_count": 11,
   "id": "15a4216d",
   "metadata": {},
   "outputs": [],
   "source": [
    "from sklearn.svm import SVR\n",
    "from sklearn.metrics import r2_score,mean_squared_error"
   ]
  },
  {
   "cell_type": "code",
   "execution_count": 12,
   "id": "ee0d5a76",
   "metadata": {},
   "outputs": [],
   "source": [
    "model = SVR(kernel='poly',C=5,gamma=0.1)\n",
    "model.fit(x_train,y_train)\n",
    "predict = model.predict(x_test)"
   ]
  },
  {
   "cell_type": "code",
   "execution_count": 13,
   "id": "0968d4b3",
   "metadata": {},
   "outputs": [
    {
     "data": {
      "text/plain": [
       "0.9790511037431154"
      ]
     },
     "execution_count": 13,
     "metadata": {},
     "output_type": "execute_result"
    }
   ],
   "source": [
    "model.score(x_train,y_train)"
   ]
  },
  {
   "cell_type": "code",
   "execution_count": 14,
   "id": "427d9a51",
   "metadata": {},
   "outputs": [
    {
     "data": {
      "text/plain": [
       "0.985602040900152"
      ]
     },
     "execution_count": 14,
     "metadata": {},
     "output_type": "execute_result"
    }
   ],
   "source": [
    "r2_score(y_test,predict)"
   ]
  },
  {
   "cell_type": "code",
   "execution_count": 15,
   "id": "1f27235f",
   "metadata": {},
   "outputs": [
    {
     "data": {
      "text/plain": [
       "0.034484000807043336"
      ]
     },
     "execution_count": 15,
     "metadata": {},
     "output_type": "execute_result"
    }
   ],
   "source": [
    "mean_squared_error(y_test,predict)"
   ]
  },
  {
   "cell_type": "code",
   "execution_count": 16,
   "id": "7665f40a",
   "metadata": {},
   "outputs": [
    {
     "data": {
      "text/plain": [
       "0.1856986828360485"
      ]
     },
     "execution_count": 16,
     "metadata": {},
     "output_type": "execute_result"
    }
   ],
   "source": [
    "math.sqrt(mean_squared_error(y_test,predict))"
   ]
  },
  {
   "cell_type": "code",
   "execution_count": 17,
   "id": "ff0ca6da",
   "metadata": {},
   "outputs": [
    {
     "data": {
      "image/png": "[encoded data removed]",
      "text/plain": [
       "<Figure size 640x480 with 1 Axes>"
      ]
     },
     "metadata": {},
     "output_type": "display_data"
    }
   ],
   "source": [
    "plt.bar(['Training','Testing'],[model.score(x_train,y_train),r2_score(y_test,predict)],color = ['green','brown'])\n",
    "plt.title('Training vs Testing accuracy')\n",
    "plt.ylabel('Accuracy')\n",
    "plt.show()"
   ]
  },
  {
   "cell_type": "code",
   "execution_count": null,
   "id": "74bec107",
   "metadata": {},
   "outputs": [],
   "source": []
  },
  {
   "cell_type": "code",
   "execution_count": null,
   "id": "bfe35d4b",
   "metadata": {},
   "outputs": [],
   "source": []
  }
 ],
 "metadata": {
  "kernelspec": {
   "display_name": "Python 3 (ipykernel)",
   "language": "python",
   "name": "python3"
  },
  "language_info": {
   "codemirror_mode": {
    "name": "ipython",
    "version": 3
   },
   "file_extension": ".py",
   "mimetype": "text/x-python",
   "name": "python",
   "nbconvert_exporter": "python",
   "pygments_lexer": "ipython3",
   "version": "3.10.11"
  }
 },
 "nbformat": 4,
 "nbformat_minor": 5
}
